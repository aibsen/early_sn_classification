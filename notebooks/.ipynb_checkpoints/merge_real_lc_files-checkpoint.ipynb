{
 "cells": [
  {
   "cell_type": "code",
   "execution_count": 1,
   "id": "8223c418-5f7f-4265-b18a-25499bb18ab2",
   "metadata": {},
   "outputs": [],
   "source": [
    "import pandas as pd\n",
    "import numpy as np"
   ]
  },
  {
   "cell_type": "markdown",
   "id": "3ea2dd2a-a72b-46b7-851d-a3117e21e5c3",
   "metadata": {},
   "source": [
    "I have three 4 files with lightcurves:\n",
    "\n",
    "1.-lasair_bts_batch_0.csv (ids from bts)\n",
    "\n",
    "2.-lasair_bts_batch_1.csv (more ids from bts)\n",
    "\n",
    "3.-lasair_tns_csv (ids from tns)\n",
    "\n",
    "4.-yse_lcs.csv (from yse dataset)\n",
    "\n",
    "They all have more or less the same fields, except for objId. While the objects from bts and tns have the ZTF ID, the ones from YSE have the IAU ID. So what I have to do is:\n",
    "\n",
    "1.- Concatenate files\n",
    "\n",
    "2.- Add IAU IDs missing\n",
    "\n",
    "3.- Drop duplicates + sanity check\n",
    "\n",
    "4.- Go over the criteria I had previously decided on and filter accordingly\n",
    "\n",
    "5.- Filter the metadata file again if necessary\n",
    "\n",
    "6.- Ensure that IAU ID given is unique"
   ]
  },
  {
   "cell_type": "code",
   "execution_count": null,
   "id": "bdb3cb3f-dc27-4df6-91c8-0e6ad64f942c",
   "metadata": {},
   "outputs": [],
   "source": [
    "meta = pd.read_csv('../data/real/real_metadata.csv')\n",
    "bts_0 = pd.read_csv('../data/real/lasair_bts_batch_0.csv')\n",
    "bts_1 = pd.read_csv('../data/real/lasair_bts_batch_1.csv')\n",
    "tns = pd.read_csv('../data/real/lasair_tns_lcs.csv')\n",
    "yse = pd.read_csv('../data/real/yse_lcs.csv')"
   ]
  }
 ],
 "metadata": {
  "kernelspec": {
   "display_name": "Python 3 (ipykernel)",
   "language": "python",
   "name": "python3"
  },
  "language_info": {
   "codemirror_mode": {
    "name": "ipython",
    "version": 3
   },
   "file_extension": ".py",
   "mimetype": "text/x-python",
   "name": "python",
   "nbconvert_exporter": "python",
   "pygments_lexer": "ipython3",
   "version": "3.9.12"
  }
 },
 "nbformat": 4,
 "nbformat_minor": 5
}
